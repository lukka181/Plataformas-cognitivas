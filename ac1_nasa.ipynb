{
  "nbformat": 4,
  "nbformat_minor": 0,
  "metadata": {
    "colab": {
      "provenance": []
    },
    "kernelspec": {
      "name": "python3",
      "display_name": "Python 3"
    },
    "language_info": {
      "name": "python"
    }
  },
  "cells": [
    {
      "cell_type": "code",
      "source": [],
      "metadata": {
        "id": "lyE6jdtjzNjf"
      },
      "execution_count": null,
      "outputs": []
    },
    {
      "cell_type": "code",
      "source": [
        "import requests\n",
        "url = requests.get('https://api.nasa.gov/mars-photos/api/v1/rovers/curiosity/photos?sol=1000&api_key=30TaD9UmDFLPdZFdQvWMg0LebeoZ4qdniAyVrB2w')\n",
        "\n",
        "foto = url.json()\n",
        "\n",
        "for a in foto['photos']:\n",
        "  print(a['img_src'])\n",
        "  continuar = input(\"Digite sim para mostrar a próxima imagem e não para parar: \")\n",
        "  if continuar==\"não\":\n",
        "    break"
      ],
      "metadata": {
        "id": "FmI7CZDeMc32"
      },
      "execution_count": null,
      "outputs": []
    }
  ]
}